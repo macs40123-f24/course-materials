{
 "cells": [
  {
   "cell_type": "markdown",
   "metadata": {},
   "source": [
    "[![Open In Colab](https://colab.research.google.com/assets/colab-badge.svg)](https://drive.google.com/file/d/1AMOi2LofiLxhpa6GtsbwWFOBbcxajfqW/view?usp=sharing) "
   ]
  },
  {
   "cell_type": "markdown",
   "metadata": {},
   "source": [
    "# Sparse Implementation of LSH\n",
    "\n",
    "This notebook covers the step by step implementation of a traditional LSH process, including:\n",
    "- k-shingling  \n",
    "- minhashing to create the signature matrix \n",
    "- apply LSH banding technique to the signature matrix \n",
    "\n",
    "**Notebook adapted from [Faiss: Facebook AI similarity Search](https://www.pinecone.io/learn/series/faiss/), [Chapter 3](https://www.pinecone.io/learn/series/faiss/locality-sensitive-hashing/)**"
   ]
  },
  {
   "cell_type": "code",
   "execution_count": 1,
   "metadata": {},
   "outputs": [],
   "source": [
    "# We start by defining a few sentences.\n",
    "a = \"flying fish flew by the space station\"\n",
    "b = \"he will not allow you to bring your sticks of dynamite and pet armadillo along\"\n",
    "c = \"he figured a few sticks of dynamite were easier than a fishing pole to catch an armadillo\""
   ]
  },
  {
   "cell_type": "markdown",
   "metadata": {},
   "source": [
    "## Shingling\n",
    "The first thing we do is create our shingles, we will use k-shingles where `k == 2`. <br>\n",
    "For longer text it is recommended to create shingles where it is unlikely to produce matching shingles between non-matching text, `k` values of `7` to `11` would likely produce this outcome."
   ]
  },
  {
   "cell_type": "code",
   "execution_count": 2,
   "metadata": {},
   "outputs": [
    {
     "name": "stdout",
     "output_type": "stream",
     "text": [
      "fl|ly|yi|in|ng|g | f|fi|is|sh|h | f|fl|le|ew|w | b|by|y | t|th|he|e | s|sp|pa|ac|ce|e | s|st|ta|at|ti|io|on|"
     ]
    }
   ],
   "source": [
    "# get shingles with a sliding window size of 2\n",
    "k = 2\n",
    "for i in range(len(a) - k+1):\n",
    "    print(a[i: i+k], end='|')"
   ]
  },
  {
   "cell_type": "markdown",
   "metadata": {},
   "source": [
    "These are our shingles, however, we must **remove duplicate values** as we are producing a **set**. We do this using the Python type `set`. To apply shingling to each of our sentences we will define a `shingle` function:"
   ]
  },
  {
   "cell_type": "code",
   "execution_count": 3,
   "metadata": {},
   "outputs": [],
   "source": [
    "def shingle(text, k):\n",
    "    shingle_set = []\n",
    "    for i in range(len(text) - k+1):\n",
    "        shingle_set.append(text[i:i+k])\n",
    "    return set(shingle_set)"
   ]
  },
  {
   "cell_type": "code",
   "execution_count": 4,
   "metadata": {},
   "outputs": [
    {
     "name": "stdout",
     "output_type": "stream",
     "text": [
      "{'st', 'ew', 'in', 'e ', 'h ', 'ce', 'ta', 'is', 'w ', 'ly', 'by', 'sh', 'ng', ' b', 'at', 'on', 'ti', 'ac', 'g ', 'sp', 'yi', 'fi', 'y ', 'he', ' t', 'fl', 'le', 'io', ' f', 'th', 'pa', ' s'}\n"
     ]
    }
   ],
   "source": [
    "a = shingle(a, k)\n",
    "b = shingle(b, k)\n",
    "c = shingle(c, k)\n",
    "print(a)"
   ]
  },
  {
   "cell_type": "markdown",
   "metadata": {},
   "source": [
    "Now that we have our three shingles we create **a shingle vocabulary** by create a `union` between all three sets."
   ]
  },
  {
   "cell_type": "code",
   "execution_count": 5,
   "metadata": {},
   "outputs": [
    {
     "name": "stdout",
     "output_type": "stream",
     "text": [
      "['it', 'ol', 'ed', ' c', 'ce', 'ta', 'is', 'we', 'wi', 'ig', 'n ', 'g ', 'sp', ' a', 'fi', 'y ', ' t', 'er', 'of', 'fl', ' d', 'am', 'ow', 'io', 'pe', 'hi', 'th', 'ha', ' s', 'an', 'st', 'a ', 'in', 'h ', 'w ', 'ly', 'at', 'ac', 'no', 'he', 'l ', 'fe', 'ie', 's ', 'di', 'ma', 're', 'br', ' o', 'pa', 'r ', 'gu', 'ea', 'ew', 'ur', 'il', 'e ', 'by', 'lo', ' y', 'ot', 'ou', 'll', 'yi', 'si', 'ar', 'o ', ' w', 'po', 'd ', 'tc', 'f ', ' f', 'al', 'ri', 'ch', 'ks', 'ca', 'mi', 'to', 'rm', 'u ', 'sh', 'yn', 'na', 'ng', ' b', 'ad', 'ic', 'on', 'ti', 'dy', 'te', 'yo', 'nd', ' p', 'as', 'le', 'et', ' e', 't ', ' n', 'ck']\n"
     ]
    }
   ],
   "source": [
    "vocab = list(a.union(b).union(c))\n",
    "print(vocab)"
   ]
  },
  {
   "cell_type": "markdown",
   "metadata": {},
   "source": [
    "Using this vocab we can create **one-hot encoded sparse vectors** to represent our shingles."
   ]
  },
  {
   "cell_type": "code",
   "execution_count": 7,
   "metadata": {},
   "outputs": [
    {
     "name": "stdout",
     "output_type": "stream",
     "text": [
      "[0, 0, 0, 0, 1, 1, 1, 0, 0, 0, 0, 1, 1, 0, 1, 1, 1, 0, 0, 1, 0, 0, 0, 1, 0, 0, 1, 0, 1, 0, 1, 0, 1, 1, 1, 1, 1, 1, 0, 1, 0, 0, 0, 0, 0, 0, 0, 0, 0, 1, 0, 0, 0, 1, 0, 0, 1, 1, 0, 0, 0, 0, 0, 1, 0, 0, 0, 0, 0, 0, 0, 0, 1, 0, 0, 0, 0, 0, 0, 0, 0, 0, 1, 0, 0, 1, 1, 0, 0, 1, 1, 0, 0, 0, 0, 0, 0, 1, 0, 0, 0, 0, 0]\n"
     ]
    }
   ],
   "source": [
    "a_1hot = [1 if x in a else 0 for x in vocab]\n",
    "b_1hot = [1 if x in b else 0 for x in vocab]\n",
    "c_1hot = [1 if x in c else 0 for x in vocab]\n",
    "print(a_1hot)"
   ]
  },
  {
   "cell_type": "markdown",
   "metadata": {},
   "source": [
    "## Minhashing\n",
    "\n",
    "After creating our shingle sets we use **minhashing** to create **signatures** from those sets.\n",
    "\n",
    "To create our minhashing function we build several hash functions, each will randomly count from `1` to `len(vocab) + 1` - creating a *random* vector:"
   ]
  },
  {
   "cell_type": "code",
   "execution_count": 8,
   "metadata": {},
   "outputs": [
    {
     "name": "stdout",
     "output_type": "stream",
     "text": [
      "[1, 2, 3, 4, 5, 6, 7, 8, 9, 10, 11, 12, 13, 14, 15, 16, 17, 18, 19, 20, 21, 22, 23, 24, 25, 26, 27, 28, 29, 30, 31, 32, 33, 34, 35, 36, 37, 38, 39, 40, 41, 42, 43, 44, 45, 46, 47, 48, 49, 50, 51, 52, 53, 54, 55, 56, 57, 58, 59, 60, 61, 62, 63, 64, 65, 66, 67, 68, 69, 70, 71, 72, 73, 74, 75, 76, 77, 78, 79, 80, 81, 82, 83, 84, 85, 86, 87, 88, 89, 90, 91, 92, 93, 94, 95, 96, 97, 98, 99, 100, 101, 102, 103] \n",
      "\n",
      "[42, 79, 83, 10, 68, 48, 2, 73, 16, 81, 59, 11, 46, 34, 57, 38, 51, 33, 67, 45, 31, 66, 9, 22, 56, 98, 90, 43, 64, 27, 80, 53, 96, 50, 62, 75, 49, 77, 102, 60, 88, 13, 37, 24, 40, 41, 19, 69, 6, 63, 8, 35, 84, 47, 3, 52, 17, 39, 61, 71, 23, 7, 25, 86, 94, 103, 85, 20, 74, 44, 89, 21, 1, 99, 58, 97, 54, 92, 26, 72, 93, 78, 65, 30, 28, 91, 101, 5, 55, 76, 12, 70, 87, 14, 100, 18, 29, 32, 36, 95, 4, 15, 82]\n"
     ]
    }
   ],
   "source": [
    "shingle_ids = list(range(1, len(vocab)+1))\n",
    "print(shingle_ids, '\\n')  # we haven't shuffled yet\n",
    "\n",
    "import random\n",
    "# Set the random seed\n",
    "random.seed(42)\n",
    "\n",
    "# shuffle the index\n",
    "from random import shuffle\n",
    "\n",
    "permutation = shingle_ids\n",
    "shuffle(permutation)\n",
    "print(permutation)"
   ]
  },
  {
   "cell_type": "markdown",
   "metadata": {},
   "source": [
    "We now have a randomized list of integers which we can use in creating our *hashed* signatures. What we do now is begin counting from `1` through to `len(vocab) + 1`, extracting the position of this number in our new `hash_ex` list, like so (for the first few integers):"
   ]
  },
  {
   "cell_type": "code",
   "execution_count": 9,
   "metadata": {},
   "outputs": [
    {
     "name": "stdout",
     "output_type": "stream",
     "text": [
      "1 -> 72\n",
      "2 -> 6\n",
      "3 -> 54\n",
      "4 -> 100\n"
     ]
    }
   ],
   "source": [
    "# original shingle_id --> current position in the shuffled id\n",
    "for i in range(1, 5):\n",
    "    print(f\"{i} -> {permutation.index(i)}\")"
   ]
  },
  {
   "cell_type": "markdown",
   "metadata": {},
   "source": [
    "What we do with this is count up from `1` to `len(vocab) + 1` and find if the resultant `hash_ex.index(i)` position in our one-hot encoded vectors contains a positive value (`1`) in that position, like so:"
   ]
  },
  {
   "cell_type": "code",
   "execution_count": 10,
   "metadata": {},
   "outputs": [
    {
     "name": "stdout",
     "output_type": "stream",
     "text": [
      "1 -> 72 -> 1\n",
      "match!\n"
     ]
    }
   ],
   "source": [
    "for i in range(1, len(vocab)+1):\n",
    "    idx = permutation.index(i)\n",
    "    signature_val = a_1hot[idx]\n",
    "    print(f\"{i} -> {idx} -> {signature_val}\")\n",
    "    if signature_val == 1:\n",
    "        print('match!')\n",
    "        break"
   ]
  },
  {
   "cell_type": "markdown",
   "metadata": {},
   "source": [
    "That gives us a first signature value of `1`. But this is just a single value, and it takes many values to create a signature (20 for example).\n",
    "\n",
    "So, how to we generate these other values? By using more permutations! Let's generate a set of permutations to create a signature vector of length `20`."
   ]
  },
  {
   "cell_type": "code",
   "execution_count": 11,
   "metadata": {},
   "outputs": [
    {
     "name": "stdout",
     "output_type": "stream",
     "text": [
      "permutation 1:\n",
      "[37, 14, 58, 81, 62, 6, 65, 31, 53, 44, 61, 80, 71, 23, 38, 95, 5, 45, 16, 36, 3, 94, 25, 43, 68, 40, 26, 27, 63, 56, 4, 79, 90, 102, 89, 87, 78, 57, 24, 10, 13, 39, 48, 46, 74, 100, 76, 96, 77, 88, 67, 17, 54, 82, 1, 30, 11, 99, 93, 8, 22, 42, 70, 35, 98, 2, 33, 60, 49, 50, 9, 85, 21, 20, 15, 7, 12, 97, 66, 91, 29, 47, 52, 86, 55, 75, 101, 69, 72, 32, 18, 34, 19, 59, 83, 51, 64, 84, 103, 41, 92, 73, 28] \n",
      "\n",
      "permutation 2:\n",
      "[34, 11, 41, 20, 95, 87, 21, 93, 24, 23, 38, 37, 75, 74, 15, 101, 19, 33, 51, 77, 2, 52, 65, 79, 39, 14, 72, 86, 82, 69, 40, 6, 89, 54, 50, 78, 45, 83, 49, 62, 18, 12, 91, 84, 90, 35, 48, 102, 100, 64, 22, 60, 26, 59, 7, 103, 42, 96, 4, 47, 80, 85, 27, 55, 46, 56, 68, 13, 25, 53, 73, 99, 61, 17, 70, 28, 63, 36, 31, 66, 88, 43, 5, 97, 92, 8, 81, 10, 1, 98, 94, 30, 71, 76, 3, 44, 9, 29, 32, 16, 58, 67, 57] \n",
      "\n",
      "permutation 3:\n",
      "[57, 71, 28, 79, 12, 3, 94, 13, 26, 47, 63, 2, 55, 74, 15, 43, 45, 82, 25, 22, 42, 38, 56, 10, 50, 46, 18, 44, 69, 70, 4, 61, 48, 80, 97, 36, 58, 103, 20, 85, 29, 78, 19, 91, 84, 53, 23, 88, 93, 33, 14, 35, 64, 100, 37, 40, 30, 1, 5, 98, 49, 60, 95, 59, 39, 17, 51, 72, 86, 76, 27, 34, 102, 67, 83, 81, 54, 92, 6, 89, 99, 32, 73, 16, 52, 31, 87, 90, 77, 9, 24, 11, 66, 101, 21, 68, 65, 62, 75, 7, 8, 41, 96] \n",
      "\n"
     ]
    }
   ],
   "source": [
    "# each hash function is a permutation of the index\n",
    "permutation_list = []\n",
    "\n",
    "for _ in range(20):\n",
    "    permutation = list(range(1, len(vocab)+1))\n",
    "    shuffle(permutation)\n",
    "    permutation_list.append(permutation)\n",
    "\n",
    "for i in range(3):\n",
    "    print(f\"permutation {i+1}:\")\n",
    "    print(permutation_list[i], '\\n')"
   ]
  },
  {
   "cell_type": "markdown",
   "metadata": {},
   "source": [
    "We're only showing the first three permutations here - we have *20* in total. To create our signatures we simply process each one-hot vector through each permutation, appending the output value to our signature for that vector."
   ]
  },
  {
   "cell_type": "code",
   "execution_count": 12,
   "metadata": {},
   "outputs": [
    {
     "name": "stdout",
     "output_type": "stream",
     "text": [
      "[30, 82, 57, 14, 23, 35, 30, 56, 19, 4, 33, 39, 35, 5, 57, 56, 12, 37, 11, 86]\n"
     ]
    }
   ],
   "source": [
    "signature = []\n",
    "\n",
    "for func in permutation_list:\n",
    "    for i in range(1, len(vocab)+1):\n",
    "        idx = func.index(i)\n",
    "        signature_val = a_1hot[idx]\n",
    "        if signature_val == 1:\n",
    "            signature.append(idx)\n",
    "            break\n",
    "\n",
    "print(signature)"
   ]
  },
  {
   "cell_type": "markdown",
   "metadata": {},
   "source": [
    "And there we have our minhash produced signature for `a`. Let's clean up the code and formalize the process a little."
   ]
  },
  {
   "cell_type": "code",
   "execution_count": 13,
   "metadata": {},
   "outputs": [],
   "source": [
    "def create_one_permutation(size):\n",
    "    # function for creating the permutations\n",
    "    permutation = list(range(1, size+1))\n",
    "    shuffle(permutation)\n",
    "    return permutation\n",
    "\n",
    "def build_all_permutations(vocab_size, len_sig):\n",
    "    # function for building multiple minhash vectors\n",
    "    permutation_list = []\n",
    "    for _ in range(len_sig):\n",
    "        permutation_list.append(create_one_permutation(vocab_size))\n",
    "    return permutation_list\n",
    "\n",
    "# we create 20 permutations for the data\n",
    "permutation_list = build_all_permutations(len(vocab), 20)"
   ]
  },
  {
   "cell_type": "code",
   "execution_count": 14,
   "metadata": {},
   "outputs": [],
   "source": [
    "def create_signature(data_vector):\n",
    "    # use this function for creating our signatures (eg the matching), each has len=20\n",
    "    signature = []\n",
    "    for permutation in permutation_list:\n",
    "        for i in range(1, len(vocab)+1):\n",
    "            idx = permutation.index(i)\n",
    "            signature_flag = data_vector[idx]\n",
    "            if signature_flag == 1:\n",
    "                signature.append(idx)\n",
    "                break\n",
    "    return signature"
   ]
  },
  {
   "cell_type": "code",
   "execution_count": 15,
   "metadata": {},
   "outputs": [
    {
     "name": "stdout",
     "output_type": "stream",
     "text": [
      "[12, 57, 5, 28, 35, 16, 11, 85, 35, 90, 35, 6, 30, 5, 82, 6, 33, 23, 39, 72]\n",
      "[0, 13, 24, 93, 38, 102, 11, 85, 93, 90, 66, 47, 58, 93, 45, 43, 54, 38, 18, 18]\n",
      "[0, 13, 85, 66, 41, 102, 11, 85, 52, 90, 42, 2, 58, 84, 45, 43, 42, 84, 77, 72]\n"
     ]
    }
   ],
   "source": [
    "# now create signatures\n",
    "a_sig = create_signature(a_1hot)\n",
    "b_sig = create_signature(b_1hot)\n",
    "c_sig = create_signature(c_1hot)\n",
    "\n",
    "print(a_sig)\n",
    "print(b_sig)\n",
    "print(c_sig)"
   ]
  },
  {
   "cell_type": "markdown",
   "metadata": {},
   "source": [
    "We now have our three **minhashed signatures**! These signatures, despite being seemingly randomized, will on average have the very **similar Jaccard similarity** values as our previous sparse vectors. We have reduced the dimensionality of our vectors significantly - but maintained the same information!"
   ]
  },
  {
   "cell_type": "code",
   "execution_count": 16,
   "metadata": {},
   "outputs": [],
   "source": [
    "def jaccard(a: set, b: set):\n",
    "    return len(a.intersection(b)) / len(a.union(b))"
   ]
  },
  {
   "cell_type": "markdown",
   "metadata": {},
   "source": [
    "**a** should have lower similarity with **b** and **c**:"
   ]
  },
  {
   "cell_type": "code",
   "execution_count": 17,
   "metadata": {},
   "outputs": [
    {
     "data": {
      "text/plain": [
       "(0.14814814814814814, 0.10344827586206896)"
      ]
     },
     "execution_count": 17,
     "metadata": {},
     "output_type": "execute_result"
    }
   ],
   "source": [
    "jaccard(a, b), jaccard(set(a_sig), set(b_sig))"
   ]
  },
  {
   "cell_type": "code",
   "execution_count": 18,
   "metadata": {},
   "outputs": [
    {
     "data": {
      "text/plain": [
       "(0.22093023255813954, 0.13793103448275862)"
      ]
     },
     "execution_count": 18,
     "metadata": {},
     "output_type": "execute_result"
    }
   ],
   "source": [
    "jaccard(a, c), jaccard(set(a_sig), set(c_sig))"
   ]
  },
  {
   "cell_type": "markdown",
   "metadata": {},
   "source": [
    "And **b** and **c** should share much greater simliarity:"
   ]
  },
  {
   "cell_type": "code",
   "execution_count": 19,
   "metadata": {},
   "outputs": [
    {
     "data": {
      "text/plain": [
       "(0.45652173913043476, 0.43478260869565216)"
      ]
     },
     "execution_count": 19,
     "metadata": {},
     "output_type": "execute_result"
    }
   ],
   "source": [
    "jaccard(b, c), jaccard(set(b_sig), set(c_sig))"
   ]
  },
  {
   "cell_type": "markdown",
   "metadata": {},
   "source": [
    "We're now ready to move onto the LSH process.\n",
    "\n",
    "# Locality Sensitive Hashing\n",
    "\n",
    "The approach we will be taking in this notebook is divide our signature vector into multiple *bands*, creating several sub-vectors.\n",
    "\n",
    "We then hash each of these sub-vectors into a set of buckets, if we find that two sub-vectors from two signature vectors collide (end up in the same hash bucket) we take the two *full* signature vectors as *candidate pairs* - which we then compare in full with a similarity metric (like Jaccard similarity, cosine similarity, etc).\n",
    "\n",
    "There is no *'set'* way to hash our signature vectors, and in-fact the simplest approach is to check for equivalence across sub-vectors, which will be our approach.\n",
    "\n",
    "First, we must define the number of buckets `b` we would like to create. It's important to note that each bucket must contain an equal number of rows `r` - and so our signature length must be divisible by `b`."
   ]
  },
  {
   "cell_type": "code",
   "execution_count": 20,
   "metadata": {},
   "outputs": [],
   "source": [
    "def split_vector(signature, b):\n",
    "    assert len(signature) % b == 0\n",
    "    r = int(len(signature) / b)\n",
    "    # code splitting signature in b parts\n",
    "    subvecs = []\n",
    "    for i in range(0, len(signature), r):\n",
    "        subvecs.append(signature[i : i+r])\n",
    "    return subvecs"
   ]
  },
  {
   "cell_type": "markdown",
   "metadata": {},
   "source": [
    "We'll start by splitting into 10 bands, creating rows of `2` - on the small side to be used in a genuine LSH function but good for our example (we'll explore different `r` and `b` values soon).\n",
    "\n",
    "Let's start with our **b** and **c** vectors, which should *hopefully* match in *at least one* band."
   ]
  },
  {
   "cell_type": "code",
   "execution_count": 21,
   "metadata": {},
   "outputs": [
    {
     "data": {
      "text/plain": [
       "[[0, 13],\n",
       " [24, 93],\n",
       " [38, 102],\n",
       " [11, 85],\n",
       " [93, 90],\n",
       " [66, 47],\n",
       " [58, 93],\n",
       " [45, 43],\n",
       " [54, 38],\n",
       " [18, 18]]"
      ]
     },
     "execution_count": 21,
     "metadata": {},
     "output_type": "execute_result"
    }
   ],
   "source": [
    "band_b = split_vector(b_sig, 10)\n",
    "band_b"
   ]
  },
  {
   "cell_type": "code",
   "execution_count": 22,
   "metadata": {},
   "outputs": [
    {
     "data": {
      "text/plain": [
       "[[0, 13],\n",
       " [85, 66],\n",
       " [41, 102],\n",
       " [11, 85],\n",
       " [52, 90],\n",
       " [42, 2],\n",
       " [58, 84],\n",
       " [45, 43],\n",
       " [42, 84],\n",
       " [77, 72]]"
      ]
     },
     "execution_count": 22,
     "metadata": {},
     "output_type": "execute_result"
    }
   ],
   "source": [
    "band_c = split_vector(c_sig, 10)\n",
    "band_c"
   ]
  },
  {
   "cell_type": "markdown",
   "metadata": {},
   "source": [
    "Check if they match (we'll rewrite some of this into Numpy soon)."
   ]
  },
  {
   "cell_type": "code",
   "execution_count": 23,
   "metadata": {},
   "outputs": [
    {
     "name": "stdout",
     "output_type": "stream",
     "text": [
      "Candidate pair: [0, 13] == [0, 13]\n"
     ]
    }
   ],
   "source": [
    "for b_rows, c_rows in zip(band_b, band_c):\n",
    "    if b_rows == c_rows:\n",
    "        print(f\"Candidate pair: {b_rows} == {c_rows}\")\n",
    "        # we only need one band to match\n",
    "        break"
   ]
  },
  {
   "cell_type": "markdown",
   "metadata": {},
   "source": [
    "And let's do the same for **a**."
   ]
  },
  {
   "cell_type": "code",
   "execution_count": 24,
   "metadata": {},
   "outputs": [],
   "source": [
    "band_a = split_vector(a_sig, 10)"
   ]
  },
  {
   "cell_type": "code",
   "execution_count": 25,
   "metadata": {},
   "outputs": [
    {
     "name": "stdout",
     "output_type": "stream",
     "text": [
      "Candidate pair: [11, 85] == [11, 85]\n"
     ]
    }
   ],
   "source": [
    "for a_rows, b_rows in zip(band_a, band_b):\n",
    "    if a_rows == b_rows:\n",
    "        print(f\"Candidate pair: {a_rows} == {b_rows}\")\n",
    "        # we only need one band to match\n",
    "        break"
   ]
  },
  {
   "cell_type": "code",
   "execution_count": 26,
   "metadata": {},
   "outputs": [
    {
     "name": "stdout",
     "output_type": "stream",
     "text": [
      "Candidate pair: [11, 85] == [11, 85]\n"
     ]
    }
   ],
   "source": [
    "for a_rows, c_rows in zip(band_a, band_c):\n",
    "    if a_rows == c_rows:\n",
    "        print(f\"Candidate pair: {b_rows} == {c_rows}\")\n",
    "        # we only need one band to match\n",
    "        break"
   ]
  },
  {
   "cell_type": "markdown",
   "metadata": {},
   "source": [
    "Okay great, so even with this very simple implementation - we manage to identify sentences **b** and **c** and candidate pairs, and identify **a** as a non-candidate."
   ]
  },
  {
   "cell_type": "markdown",
   "metadata": {},
   "source": [
    "## Tuning LSH\n",
    "\n",
    "We can visualize the probability of returning a candidate pair vs the similarity of the pair for different values of `r` and `b` (rows and bands respectively). <br>\n",
    "Note: this visualization does not depend on the data."
   ]
  },
  {
   "cell_type": "code",
   "execution_count": 27,
   "metadata": {},
   "outputs": [],
   "source": [
    "def probability(s, r, b):\n",
    "    # s: similarity\n",
    "    # r: rows (per band)\n",
    "    # b: number of bands\n",
    "    return 1 - (1 - s**r)**b"
   ]
  },
  {
   "cell_type": "code",
   "execution_count": 28,
   "metadata": {},
   "outputs": [],
   "source": [
    "import numpy as np\n",
    "import pandas as pd\n",
    "import matplotlib.pyplot as plt\n",
    "import seaborn as sns"
   ]
  },
  {
   "cell_type": "code",
   "execution_count": 29,
   "metadata": {},
   "outputs": [],
   "source": [
    "results = pd.DataFrame({\n",
    "    's': [],\n",
    "    'P': [],\n",
    "    'r,b': []\n",
    "})\n",
    "\n",
    "for s in np.arange(0.01, 1, 0.01):\n",
    "    total = 100\n",
    "    for b in [100, 50, 25, 20, 10, 5, 4, 2, 1]:\n",
    "        r = int(total/b)\n",
    "        P = probability(s, r, b)\n",
    "        results = results.append({\n",
    "            's': s,\n",
    "            'P': P,\n",
    "            'r,b': f\"{r},{b}\"\n",
    "        }, ignore_index=True)"
   ]
  },
  {
   "cell_type": "code",
   "execution_count": 30,
   "metadata": {},
   "outputs": [
    {
     "data": {
      "text/plain": [
       "<AxesSubplot:xlabel='s', ylabel='P'>"
      ]
     },
     "execution_count": 30,
     "metadata": {},
     "output_type": "execute_result"
    },
    {
     "data": {
      "image/png": "[encoded data removed]",
      "text/plain": [
       "<Figure size 432x288 with 1 Axes>"
      ]
     },
     "metadata": {
      "needs_background": "light"
     },
     "output_type": "display_data"
    }
   ],
   "source": [
    "sns.lineplot(data=results, x='s', y='P', hue='r,b')"
   ]
  },
  {
   "cell_type": "code",
   "execution_count": null,
   "metadata": {},
   "outputs": [],
   "source": []
  }
 ],
 "metadata": {
  "kernelspec": {
   "display_name": "Python 3",
   "language": "python",
   "name": "python3"
  },
  "language_info": {
   "codemirror_mode": {
    "name": "ipython",
    "version": 3
   },
   "file_extension": ".py",
   "mimetype": "text/x-python",
   "name": "python",
   "nbconvert_exporter": "python",
   "pygments_lexer": "ipython3",
   "version": "3.8.8"
  },
  "toc": {
   "base_numbering": 1,
   "nav_menu": {},
   "number_sections": true,
   "sideBar": true,
   "skip_h1_title": false,
   "title_cell": "Table of Contents",
   "title_sidebar": "Contents",
   "toc_cell": false,
   "toc_position": {},
   "toc_section_display": true,
   "toc_window_display": false
  },
  "vscode": {
   "interpreter": {
    "hash": "5fe10bf018ef3e697f9035d60bf60847932a12bface18908407fd371fe880db9"
   }
  }
 },
 "nbformat": 4,
 "nbformat_minor": 2
}
